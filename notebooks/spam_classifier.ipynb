{
 "cells": [
  {
   "cell_type": "code",
   "execution_count": 16,
   "metadata": {},
   "outputs": [
    {
     "name": "stdout",
     "output_type": "stream",
     "text": [
      "DatasetDict({\n",
      "    train: Dataset({\n",
      "        features: ['sms', 'label'],\n",
      "        num_rows: 5574\n",
      "    })\n",
      "})\n"
     ]
    }
   ],
   "source": [
    "from datasets import load_dataset\n",
    "\n",
    "dataset = load_dataset(\"ucirvine/sms_spam\")\n",
    "print(dataset)"
   ]
  },
  {
   "cell_type": "code",
   "execution_count": 17,
   "metadata": {},
   "outputs": [],
   "source": [
    "train_test = dataset['train'].train_test_split(test_size=0.2, seed=42)\n",
    "train_data = train_test['train']\n",
    "test_data = train_test['test']\n"
   ]
  },
  {
   "cell_type": "code",
   "execution_count": 20,
   "metadata": {},
   "outputs": [
    {
     "name": "stdout",
     "output_type": "stream",
     "text": [
      "<Compressed Sparse Row sparse matrix of dtype 'float64'\n",
      "\twith 59330 stored elements and shape (4459, 7728)>\n",
      "  Coords\tValues\n",
      "  (0, 6807)\t0.17566587414553803\n",
      "  (0, 1892)\t0.5388836232826446\n",
      "  (0, 7437)\t0.368154774243604\n",
      "  (0, 4093)\t0.32171727140509004\n",
      "  (0, 6914)\t0.18632049616152127\n",
      "  (0, 959)\t0.12426625474485936\n",
      "  (0, 923)\t0.2250991812178853\n",
      "  (0, 6728)\t0.28903512502833534\n",
      "  (0, 7271)\t0.3152014398365978\n",
      "  (0, 1576)\t0.1913827069976151\n",
      "  (0, 3108)\t0.23654885876226692\n",
      "  (0, 2964)\t0.17544398787922041\n",
      "  (0, 6884)\t0.18061667359068917\n",
      "  (2, 6914)\t0.16403514872187766\n",
      "  (2, 4701)\t0.33203844996725934\n",
      "  (2, 7687)\t0.16897961084885257\n",
      "  (2, 1257)\t0.2770718420648336\n",
      "  (2, 3618)\t0.21822783091740683\n",
      "  (2, 4638)\t0.23834473723764243\n",
      "  (2, 6502)\t0.5450635591036432\n",
      "  (2, 1057)\t0.5966524446952126\n",
      "  (3, 6914)\t0.07788738070246318\n",
      "  (3, 959)\t0.20778761953041608\n",
      "  (3, 2964)\t0.14668136847447097\n",
      "  (3, 1257)\t0.1315596091019865\n",
      "  :\t:\n",
      "  (4457, 6072)\t0.1643001363778098\n",
      "  (4457, 4826)\t0.12973127978815288\n",
      "  (4457, 1429)\t0.1847763976779517\n",
      "  (4457, 3183)\t0.10897349565103939\n",
      "  (4457, 6086)\t0.13291866613114806\n",
      "  (4457, 5160)\t0.12302906109894622\n",
      "  (4457, 2019)\t0.17167721403753783\n",
      "  (4457, 1265)\t0.1530618946873069\n",
      "  (4457, 1598)\t0.15567192469001642\n",
      "  (4457, 3262)\t0.16185608210572094\n",
      "  (4457, 816)\t0.16700191302886283\n",
      "  (4457, 2879)\t0.2129482893164014\n",
      "  (4457, 1633)\t0.15477207233139062\n",
      "  (4457, 3421)\t0.13744356693825618\n",
      "  (4457, 3345)\t0.1145846721399589\n",
      "  (4457, 6771)\t0.19984910567598752\n",
      "  (4457, 5047)\t0.2129482893164014\n",
      "  (4457, 4719)\t0.2129482893164014\n",
      "  (4457, 3940)\t0.2233456963057622\n",
      "  (4457, 2849)\t0.2233456963057622\n",
      "  (4458, 6914)\t0.20823357870797926\n",
      "  (4458, 7693)\t0.304111241029183\n",
      "  (4458, 5959)\t0.42997115564474825\n",
      "  (4458, 5691)\t0.447789440028598\n",
      "  (4458, 3131)\t0.6919281411321209\n"
     ]
    }
   ],
   "source": [
    "from sklearn.feature_extraction.text import TfidfVectorizer\n",
    "vectorizer = TfidfVectorizer()\n",
    "\n",
    "X_train = vectorizer.fit_transform(train_data['sms'])\n",
    "X_test = vectorizer.transform(test_data['sms'])\n",
    "print(X_train)"
   ]
  },
  {
   "cell_type": "code",
   "execution_count": 23,
   "metadata": {},
   "outputs": [
    {
     "name": "stdout",
     "output_type": "stream",
     "text": [
      "Logistic Regression Accuracy: 0.9713\n"
     ]
    }
   ],
   "source": [
    "from sklearn.linear_model import LogisticRegression\n",
    "from sklearn.metrics import accuracy_score\n",
    "\n",
    "model = LogisticRegression()\n",
    "model.fit(X_train, train_data['label'])\n",
    "preds = model.predict(X_test)\n",
    "accuracy = accuracy_score(test_data['label'], preds)\n",
    "print(f\"Logistic Regression Accuracy: {accuracy:.4f}\")"
   ]
  },
  {
   "cell_type": "code",
   "execution_count": null,
   "metadata": {},
   "outputs": [],
   "source": []
  }
 ],
 "metadata": {
  "kernelspec": {
   "display_name": "Python 3",
   "language": "python",
   "name": "python3"
  },
  "language_info": {
   "codemirror_mode": {
    "name": "ipython",
    "version": 3
   },
   "file_extension": ".py",
   "mimetype": "text/x-python",
   "name": "python",
   "nbconvert_exporter": "python",
   "pygments_lexer": "ipython3",
   "version": "3.13.1"
  }
 },
 "nbformat": 4,
 "nbformat_minor": 2
}
